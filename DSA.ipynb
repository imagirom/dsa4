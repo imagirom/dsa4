{
 "cells": [
  {
   "cell_type": "code",
   "execution_count": 1,
   "metadata": {},
   "outputs": [],
   "source": [
    "import numpy as np\n",
    "import matplotlib.pyplot as plt\n",
    "from functools import partial\n",
    "import re\n",
    "import xml.etree.ElementTree as ET\n",
    "from time import sleep\n",
    "import os\n",
    "from glob import glob"
   ]
  },
  {
   "cell_type": "code",
   "execution_count": 2,
   "metadata": {},
   "outputs": [],
   "source": [
    "def w(high, num=1):\n",
    "    result = np.random.randint(1, high+1, size=num)\n",
    "    if num==1:\n",
    "        result = result[0]\n",
    "    return result\n",
    "    \n",
    "w20 = partial(w, 20)\n",
    "w6 = partial(w, 6)"
   ]
  },
  {
   "cell_type": "code",
   "execution_count": 3,
   "metadata": {},
   "outputs": [
    {
     "name": "stdout",
     "output_type": "stream",
     "text": [
      "Boromeo Delazar1\n"
     ]
    }
   ],
   "source": [
    "def talentprobe(\n",
    "    talentwert,\n",
    "    eigenschaften,\n",
    "    modifikator=0,\n",
    "):\n",
    "    eigenschaften = np.array(eigenschaften)\n",
    "    assert len(eigenschaften) == 3, \\\n",
    "        f'Eigenschaften müssen Länge 3 haben.'\n",
    "    # 3 W20 würfeln\n",
    "    gewürfelt = w20(3)\n",
    "    \n",
    "    # übrige punkte (Tpk*) berechnen\n",
    "    übrig = eigenschaften - gewürfelt\n",
    "    if modifikator > talentwert:\n",
    "        übrig -= (modifikator - talentwert)\n",
    "        talentwert = 0\n",
    "    else:\n",
    "        talentwert -= modifikator\n",
    "    übrig = np.clip(übrig, a_max=0, a_min=None).sum() + talentwert\n",
    "    \n",
    "    # patzer bei mindestens zwei gewürfelten zwanzigen\n",
    "    patzer = (gewürfelt==20).sum() >= 2\n",
    "    \n",
    "    # gücklich bei mindestens zwei einsen\n",
    "    glücklich = (gewürfelt==1).sum() >= 2\n",
    "    \n",
    "    # geschafft wenn punkte übrig und kein patzer\n",
    "    geschafft = (übrig >= 0) and not patzer\n",
    "    \n",
    "    if patzer:\n",
    "        result_code = -1\n",
    "    elif glücklich:\n",
    "        result_code = 2\n",
    "    elif geschafft:\n",
    "        result_code = 1\n",
    "    else:\n",
    "        result_code = 0\n",
    "    \n",
    "    return result_code, dict(\n",
    "        geschafft = geschafft,\n",
    "        übrig = übrig,\n",
    "        patzer = patzer,\n",
    "        glücklich = glücklich,\n",
    "        gewürfelt = gewürfelt,\n",
    "    )\n",
    "\n",
    "\n",
    "eigenschaften_mapping = dict(\n",
    "    Mut='MU',\n",
    "    Klugheit='KL',\n",
    "    Intuition='IN',\n",
    "    Charisma='CH',\n",
    "    Fingerfertigkeit='FF',\n",
    "    Gewandtheit='GE',\n",
    "    Konstitution='KO',\n",
    "    Körperkraft='KK', \n",
    "    Sozialstatus='SO',\n",
    "    Magieresistenz='MR',\n",
    "    Lebensenergie='LeP',\n",
    "    Ausdauer='AuP',\n",
    ")\n",
    "\n",
    "def parse_eigenschaften(root):\n",
    "    eigenschaften = root.findall('held/eigenschaften')[0]\n",
    "    eigenschaften = {eigenschaften_mapping[e.attrib['name']]: int(e.attrib['value'])\n",
    "                     for e in eigenschaften \n",
    "                     if e.attrib['name'] in eigenschaften_mapping}\n",
    "    assert len(eigenschaften) == len(eigenschaften_mapping), \\\n",
    "        f'Nicht alle eigenschaften gefunden'\n",
    "    return eigenschaften\n",
    "\n",
    "\n",
    "def parse_talente(root):\n",
    "    talentliste = root.findall('held/talentliste')[0]\n",
    "    result = dict()\n",
    "    for talent_info in talentliste:\n",
    "        talent_info = parse_talent(talent_info)\n",
    "        talentname = talent_info.pop('name')\n",
    "        result[talentname] = talent_info\n",
    "    return result\n",
    "\n",
    "    \n",
    "def parse_talent(talent_info):\n",
    "    talent_info = talent_info.attrib.copy()\n",
    "    talent_info['probe'] = re.match(' \\((..)/(..)/(..)\\)', talent_info['probe']).groups()\n",
    "    talent_info['talentwert'] = int(talent_info.pop('value'))\n",
    "    del talent_info['lernmethode']\n",
    "    return talent_info\n",
    "\n",
    "\n",
    "def print_recursive(root, depth=0, hist=()):\n",
    "    hist = hist + (root.tag,)\n",
    "    print(hist)\n",
    "    print(root.attrib)\n",
    "    for child in root:\n",
    "        print_recursive(child, depth+1, hist)\n",
    "        \n",
    "    \n",
    "class Held():\n",
    "    @staticmethod\n",
    "    def from_xml(path):\n",
    "        tree = ET.parse(path)\n",
    "        root = tree.getroot()\n",
    "        eigenschaften = parse_eigenschaften(root)\n",
    "        talente = parse_talente(root)\n",
    "        return Held(root.findall('held')[0].attrib['name'], eigenschaften, talente)\n",
    "        \n",
    "    def __init__(self,\n",
    "        name,\n",
    "        eigenschaften,\n",
    "        talente\n",
    "    ):\n",
    "        self.name = name\n",
    "        self.eigenschaften = eigenschaften       \n",
    "        self.talente = talente\n",
    "        self.probe = ProbenHelfer(self)\n",
    "        \n",
    "    def __repr__(self):\n",
    "        return self.name\n",
    "    \n",
    "    def talentprobe(self, talent, mod=0):\n",
    "        assert talent in self.talente, \\\n",
    "            f'Held {self.name} kann nicht {talent}'\n",
    "        eigenschaften = [self.eigenschaften[eigenschaft] for\n",
    "                        eigenschaft in self.talente[talent]['probe']]\n",
    "        talentwert = self.talente[talent]['talentwert']\n",
    "        result = talentprobe(talentwert, eigenschaften, mod)\n",
    "        result[1]['eigenschaften'] = eigenschaften\n",
    "        result[1]['talentwert'] = talentwert\n",
    "        return result\n",
    "    \n",
    "    \n",
    "class ProbenHelfer():\n",
    "    def __init__(self, held):\n",
    "        for talent in held.talente:\n",
    "            attr_name = talent.replace('  ', ' ').replace(' ', '_').replace(':', '').replace('/','')\n",
    "            setattr(self, attr_name, self._Probe(held, talent))\n",
    "            \n",
    "    class _Probe:\n",
    "        def __init__(self, held, talent):\n",
    "            self.held = held\n",
    "            self.talent = talent\n",
    "            self.talent_info = self.held.talente[self.talent]\n",
    "            \n",
    "        def __call__(self, mod=0, in_game=True, delay=1):\n",
    "            result = self.held.talentprobe(self.talent, mod)\n",
    "            if in_game:\n",
    "                for i, augen in enumerate(result[1]['gewürfelt']):\n",
    "                    print(f'Wurf {i+1}: {augen}')\n",
    "                    sleep(delay)\n",
    "                if result[1]['patzer']:\n",
    "                    print(\"Patzer! \", w6() + w6())\n",
    "                elif result[1]['glücklich']:\n",
    "                    print(\"Glücklich!\")\n",
    "                elif result[1]['geschafft']:\n",
    "                    print(f\"Geschafft.\")\n",
    "                else:\n",
    "                    print(\"Fehlschlag.\")\n",
    "                print(f\"Punkte übrig: {result[1]['übrig']}\")\n",
    "            return result\n",
    "            \n",
    "        def __repr__(self):\n",
    "            return str(self.talent_info)\n",
    "                      \n",
    "        def prob(self, mod=0, n=10000):\n",
    "            return monte_carlo_estimate(lambda: self(mod=mod, in_game=False)[0] > 0, n)\n",
    "        \n",
    "        def prob_plot(self, mods=None, n=1000):\n",
    "            mods = np.arange(-7, 8) if mods is None else mods\n",
    "            probs = [monte_carlo_estimate(lambda: self(mod, in_game=False)[0] > 0, n) \n",
    "                     for mod in mods]\n",
    "            plt.plot(mods, probs)\n",
    "                      \n",
    "        def übrig_hist(self, mod=0, n=10000):\n",
    "            data = [self(mod, in_game=False)[1]['übrig'] for _ in range(n)]\n",
    "            plt.hist(data, density=True)\n",
    "            \n",
    "    \n",
    "def monte_carlo_estimate(func, n=1000):\n",
    "    return np.mean([func() for _ in range(n)])\n",
    "\n",
    "    \n",
    "# results = [talentprobe(5, (10, 15, 13))[0]\n",
    "#            for _ in range(1000)]\n",
    "# np.unique(results, return_counts=True)\n",
    "\n",
    "# monte_carlo_estimate(lambda: talentprobe(8, (10, 8, 13))[0], 10000)\n",
    "\n",
    "boromeo = Held.from_xml('/home/roman/Documents/helden-software/exported/3 Boromeo Delazar1.xml')\n",
    "print(boromeo.name)"
   ]
  },
  {
   "cell_type": "code",
   "execution_count": 4,
   "metadata": {},
   "outputs": [],
   "source": [
    "def pythonize_string(s):\n",
    "    return s.replace('  ', ' ').replace(' ', '_').replace(':', '').replace('/','')\n",
    "\n",
    "outcome_to_string = {\n",
    "    -1: 'Patzer!',\n",
    "    0: 'Fehlschlag.',\n",
    "    1: 'Geschafft.',\n",
    "    2: 'Glücklich!',\n",
    "}\n",
    "\n",
    "class Heldengruppe:\n",
    "    @classmethod\n",
    "    def from_folder(cls, path):\n",
    "        return cls(*(Held.from_xml(file) for file in glob(os.path.join(path, '*.xml'))))\n",
    "                  \n",
    "    def __init__(self, *helden):\n",
    "        self.helden = helden\n",
    "        for talent in set.union(*[set(held.talente.keys()) for held in helden]):\n",
    "            #print(talent)\n",
    "            attr_name = pythonize_string(talent)\n",
    "            setattr(self, attr_name, partial(self.talentprobe, talent))\n",
    "            \n",
    "    def talentprobe(self, talent, *args, verbose=True, **kwargs):\n",
    "        results = {}\n",
    "        for held in self.helden:\n",
    "            if talent not in held.talente:\n",
    "                results[held]=None\n",
    "                continue\n",
    "            results[held] = held.talentprobe(talent, *args, **kwargs)\n",
    "        if verbose:\n",
    "            for held, result in results.items():\n",
    "                if result is None:\n",
    "                    print(f'{held.name:25s}')\n",
    "                else:\n",
    "                    print(f'{held.name:25s} {outcome_to_string[result[0]]:12s} {result[1][\"übrig\"]:3d} übrig.')\n",
    "        else:\n",
    "            return results\n",
    "            \n",
    "    def __len__(self):\n",
    "        return self.helden\n",
    "    \n",
    "    def __iter__(self):\n",
    "        return iter(self.helden)\n",
    "    \n",
    "\n",
    "#boromeo.probe.Schätzen(delay=2);"
   ]
  },
  {
   "cell_type": "code",
   "execution_count": 5,
   "metadata": {
    "slideshow": {
     "slide_type": "slide"
    }
   },
   "outputs": [],
   "source": [
    "# Einen Helden laden\n",
    "boromeo = Held.from_xml('/home/roman/Documents/helden-software/exported/3 Boromeo Delazar1.xml')"
   ]
  },
  {
   "cell_type": "code",
   "execution_count": 6,
   "metadata": {
    "slideshow": {
     "slide_type": "subslide"
    }
   },
   "outputs": [
    {
     "name": "stdout",
     "output_type": "stream",
     "text": [
      "Wurf 1: 12\n",
      "Wurf 2: 2\n",
      "Wurf 3: 14\n",
      "Geschafft.\n",
      "Punkte übrig: 9\n"
     ]
    }
   ],
   "source": [
    "# Probe mit Verzögerung für Spannung :D\n",
    "# (Das würde ich vielleicht benutzen, \n",
    "# wenn Julia unseren einen Würfel gerade hat)\n",
    "boromeo.probe.Tierkunde(); "
   ]
  },
  {
   "cell_type": "code",
   "execution_count": 7,
   "metadata": {
    "slideshow": {
     "slide_type": "slide"
    }
   },
   "outputs": [
    {
     "data": {
      "text/plain": [
       "{'probe': ('GE', 'KO', 'KK'), 'talentwert': 1}"
      ]
     },
     "execution_count": 7,
     "metadata": {},
     "output_type": "execute_result"
    }
   ],
   "source": [
    "# Für info zu einer Probe: Klammern weglassen\n",
    "boromeo.probe.Boote_fahren"
   ]
  },
  {
   "cell_type": "code",
   "execution_count": 9,
   "metadata": {
    "slideshow": {
     "slide_type": "subslide"
    }
   },
   "outputs": [],
   "source": [
    "# Eine Gruppe laden\n",
    "gruppe = Heldengruppe.from_folder('/home/roman/mnt/DSA/Helden/')"
   ]
  },
  {
   "cell_type": "code",
   "execution_count": 10,
   "metadata": {
    "slideshow": {
     "slide_type": "fragment"
    }
   },
   "outputs": [
    {
     "name": "stdout",
     "output_type": "stream",
     "text": [
      "Boromeo Delazar1          Geschafft.     1 übrig.\n",
      "Kiaras Geron ya Caranda   Fehlschlag.   -4 übrig.\n",
      "Pashkir Alfahan           Geschafft.     5 übrig.\n"
     ]
    }
   ],
   "source": [
    "# Die ganze Gruppe eine Probe machen lassen\n",
    "gruppe.Sinnenschärfe(3) # Sinnesschärfe erschwert um 3"
   ]
  },
  {
   "cell_type": "code",
   "execution_count": 68,
   "metadata": {},
   "outputs": [
    {
     "name": "stdout",
     "output_type": "stream",
     "text": [
      "Boromeo Delazar1          Patzer!       -7 übrig.\n",
      "Kiaras Geron ya Caranda   Fehlschlag.   -2 übrig.\n",
      "Pashkir Alfahan          \n"
     ]
    }
   ],
   "source": [
    "gruppe.Sprachen_kennen_Rssahh()"
   ]
  },
  {
   "cell_type": "code",
   "execution_count": 78,
   "metadata": {},
   "outputs": [
    {
     "name": "stdout",
     "output_type": "stream",
     "text": [
      "Wurf 1: 14\n",
      "Wurf 2: 3\n",
      "Wurf 3: 1\n",
      "Geschafft.\n",
      "Punkte übrig: 8\n"
     ]
    }
   ],
   "source": [
    "boromeo.probe.Tierkunde();"
   ]
  },
  {
   "cell_type": "code",
   "execution_count": 85,
   "metadata": {},
   "outputs": [
    {
     "data": {
      "image/png": "[encoded data removed]",
      "text/plain": [
       "<Figure size 432x288 with 1 Axes>"
      ]
     },
     "metadata": {
      "needs_background": "light"
     },
     "output_type": "display_data"
    },
    {
     "data": {
      "image/png": "[encoded data removed]",
      "text/plain": [
       "<Figure size 432x288 with 1 Axes>"
      ]
     },
     "metadata": {
      "needs_background": "light"
     },
     "output_type": "display_data"
    }
   ],
   "source": [
    "boromeo.probe.Reiten.prob_plot()\n",
    "plt.show()\n",
    "boromeo.probe.Reiten.übrig_hist()\n",
    "plt.show();"
   ]
  },
  {
   "cell_type": "code",
   "execution_count": null,
   "metadata": {},
   "outputs": [],
   "source": []
  }
 ],
 "metadata": {
  "kernelspec": {
   "display_name": "Python 3",
   "language": "python",
   "name": "python3"
  },
  "language_info": {
   "codemirror_mode": {
    "name": "ipython",
    "version": 3
   },
   "file_extension": ".py",
   "mimetype": "text/x-python",
   "name": "python",
   "nbconvert_exporter": "python",
   "pygments_lexer": "ipython3",
   "version": "3.7.3"
  }
 },
 "nbformat": 4,
 "nbformat_minor": 2
}
