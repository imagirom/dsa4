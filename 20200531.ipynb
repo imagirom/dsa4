{
 "cells": [
  {
   "cell_type": "code",
   "execution_count": 1,
   "metadata": {},
   "outputs": [],
   "source": [
    "from dsa4 import *"
   ]
  },
  {
   "cell_type": "code",
   "execution_count": 3,
   "metadata": {},
   "outputs": [],
   "source": [
    "boromeo = Held.from_xml('helden/BoromeoDelazar1.xml')\n",
    "gruppe = Heldengruppe.from_folder('helden')"
   ]
  },
  {
   "cell_type": "code",
   "execution_count": 4,
   "metadata": {},
   "outputs": [
    {
     "name": "stdout",
     "output_type": "stream",
     "text": [
      "Zelena     \u001b[31mFehlschlag.\u001b[0m  -5 übrig.\n",
      "Pashkir    \u001b[31mFehlschlag.\u001b[0m  -5 übrig.\n",
      "Salix      \u001b[31mFehlschlag.\u001b[0m  -4 übrig.\n",
      "Kiaras     \u001b[31mFehlschlag.\u001b[0m  -1 übrig.\n",
      "Boromeo    \u001b[31mFehlschlag.\u001b[0m  -9 übrig.\n"
     ]
    }
   ],
   "source": [
    "gruppe.Sinnenschärfe(7)"
   ]
  },
  {
   "cell_type": "code",
   "execution_count": 5,
   "metadata": {},
   "outputs": [
    {
     "name": "stdout",
     "output_type": "stream",
     "text": [
      "Wurf 1: 3\n",
      "Wurf 2: 7\n",
      "Wurf 3: 4\n",
      "Geschafft.\n",
      "Punkte übrig: 4\n"
     ]
    }
   ],
   "source": [
    "boromeo.probe.Sprachen_kennen_Mohisch();"
   ]
  },
  {
   "cell_type": "code",
   "execution_count": 70,
   "metadata": {},
   "outputs": [
    {
     "name": "stdout",
     "output_type": "stream",
     "text": [
      "\n",
      "MU\n",
      "Boromeo   : 13\n",
      "Kiaras    : 13\n",
      "Pashkir   : 13\n",
      "Salix     : 14\n",
      "Zelena    : 14\n",
      "\n",
      "KL\n",
      "Boromeo   : 10\n",
      "Kiaras    : 11\n",
      "Pashkir   : 12\n",
      "Salix     : 12\n",
      "Zelena    : 15\n",
      "\n",
      "IN\n",
      "Boromeo   : 15\n",
      "Kiaras    : 14\n",
      "Pashkir   : 15\n",
      "Salix     : 14\n",
      "Zelena    : 14\n",
      "\n",
      "CH\n",
      "Boromeo   : 13\n",
      "Kiaras    : 12\n",
      "Pashkir   : 12\n",
      "Salix     : 13\n",
      "Zelena    : 13\n",
      "\n",
      "FF\n",
      "Boromeo   : 9\n",
      "Kiaras    : 10\n",
      "Pashkir   : 10\n",
      "Salix     : 10\n",
      "Zelena    : 12\n",
      "\n",
      "GE\n",
      "Boromeo   : 14\n",
      "Kiaras    : 14\n",
      "Pashkir   : 14\n",
      "Salix     : 13\n",
      "Zelena    : 11\n",
      "\n",
      "KO\n",
      "Boromeo   : 13\n",
      "Kiaras    : 13\n",
      "Pashkir   : 13\n",
      "Salix     : 12\n",
      "Zelena    : 11\n",
      "\n",
      "KK\n",
      "Boromeo   : 15\n",
      "Kiaras    : 15\n",
      "Pashkir   : 14\n",
      "Salix     : 12\n",
      "Zelena    : 11\n",
      "\n",
      "SO\n",
      "Boromeo   : 5\n",
      "Kiaras    : 9\n",
      "Pashkir   : 4\n",
      "Salix     : 10\n",
      "Zelena    : 7\n",
      "\n",
      "LeP\n",
      "Boromeo   : 0\n",
      "Kiaras    : 0\n",
      "Pashkir   : 1\n",
      "Salix     : 0\n",
      "Zelena    : 0\n",
      "\n",
      "AuP\n",
      "Boromeo   : 0\n",
      "Kiaras    : 0\n",
      "Pashkir   : 0\n",
      "Salix     : 0\n",
      "Zelena    : 0\n",
      "\n",
      "MR\n",
      "Boromeo   : 0\n",
      "Kiaras    : 1\n",
      "Pashkir   : 1\n",
      "Salix     : 0\n",
      "Zelena    : 0\n"
     ]
    }
   ],
   "source": [
    "for e in boromeo.eigenschaften:\n",
    "    print(f'\\n{e}')\n",
    "    for held in gruppe:\n",
    "        print(f'{held.vorname:10s}: {held.eigenschaften[e]}')"
   ]
  },
  {
   "cell_type": "code",
   "execution_count": null,
   "metadata": {},
   "outputs": [],
   "source": []
  }
 ],
 "metadata": {
  "kernelspec": {
   "display_name": "Python 3",
   "language": "python",
   "name": "python3"
  },
  "language_info": {
   "codemirror_mode": {
    "name": "ipython",
    "version": 3
   },
   "file_extension": ".py",
   "mimetype": "text/x-python",
   "name": "python",
   "nbconvert_exporter": "python",
   "pygments_lexer": "ipython3",
   "version": "3.7.7"
  }
 },
 "nbformat": 4,
 "nbformat_minor": 2
}
